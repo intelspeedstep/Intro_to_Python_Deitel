{
 "cells": [
  {
   "cell_type": "markdown",
   "metadata": {},
   "source": [
    "# 13.3 Creating a Twitter Account\n",
    "* [Apply for a developer account](https://developer.twitter.com/) to use the APIs\n",
    "* Every application is subject to approval"
   ]
  },
  {
   "cell_type": "markdown",
   "metadata": {},
   "source": [
    "### Twitter Developer Account Levels\n",
    "https://developer.twitter.com/en/products/twitter-api\n",
    "* **Essentials** — “The best way to get started quickly, test, and build across all endpoints.”\n",
    "* **Elevated** — “More access for solutions that are beginning to experience growth or who prefer to work with multiple App environments.”\n",
    "* **Academic Research** — “Access to public data on nearly any topic to advance research objectives of Master’s students, doctoral candidates, post-docs, and faculty at an academic institution or university.”\n",
    "\n",
    "Some Twitter v2 APIs are accessible only to Elevated-level and higher accounts. \n",
    "\n",
    "Twitter documentation specifies the minimum account level and the rate-limit differences between levels, if any."
   ]
  },
  {
   "cell_type": "markdown",
   "metadata": {},
   "source": [
    "### Choosing a Developer Account Application Type\n",
    "* Professional, Hobbyist, and Academic Research use\n",
    "* choose the type most appropriate for your use case\n",
    "* For this chapter’s examples, you can choose Hobbyist then Exploring the API\n",
    "* If asked to apply for an Elevated application, click **Get started**, then:\n",
    "    1. On the **Basic info** tab, fill in the form with your information and click **Next**.\n",
    "    2. On the **Intended use** tab, describe how you intend to use the APIs. \n",
    "    3. Answer the other questions provided. For this chapter’s examples, you will not use the tweet, retweet, like, follow or direct message functionality; will not display tweets or aggregate data about Twitter content outside of Twitter; and will not make Twitter content available to a government entity.\n",
    "    4. Click **Next** to review your answers, then click **Next** again. \n",
    "    5. Carefully read and agree to Twitter’s **Developer agreement & policy**, then click **Submit** to complete the application. You will be asked to confirm your email address."
   ]
  },
  {
   "cell_type": "markdown",
   "metadata": {},
   "source": [
    "### Essentials Level Accounts and the Twitter v1.1 APIs\n",
    "* As of mid-2022, Twitter requires new developer accounts to use the Twitter v2 APIs\\\n",
    "* Twitter has not yet migrated some v1.1 APIs to v2"
   ]
  },
  {
   "cell_type": "markdown",
   "metadata": {},
   "source": [
    "------\n",
    "&copy;1992&ndash;2020 by Pearson Education, Inc. All Rights Reserved. This content is based on Chapter 5 of the book [**Intro to Python for Computer Science and Data Science: Learning to Program with AI, Big Data and the Cloud**](https://amzn.to/2VvdnxE).\n",
    "\n",
    "DISCLAIMER: The authors and publisher of this book have used their \n",
    "best efforts in preparing the book. These efforts include the \n",
    "development, research, and testing of the theories and programs \n",
    "to determine their effectiveness. The authors and publisher make \n",
    "no warranty of any kind, expressed or implied, with regard to these \n",
    "programs or to the documentation contained in these books. The authors \n",
    "and publisher shall not be liable in any event for incidental or \n",
    "consequential damages in connection with, or arising out of, the \n",
    "furnishing, performance, or use of these programs.                  "
   ]
  }
 ],
 "metadata": {
  "celltoolbar": "Slideshow",
  "kernelspec": {
   "display_name": "Python 3 (ipykernel)",
   "language": "python",
   "name": "python3"
  },
  "language_info": {
   "codemirror_mode": {
    "name": "ipython",
    "version": 3
   },
   "file_extension": ".py",
   "mimetype": "text/x-python",
   "name": "python",
   "nbconvert_exporter": "python",
   "pygments_lexer": "ipython3",
   "version": "3.10.5"
  }
 },
 "nbformat": 4,
 "nbformat_minor": 4
}
