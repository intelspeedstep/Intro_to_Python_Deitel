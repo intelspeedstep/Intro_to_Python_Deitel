{
 "cells": [
  {
   "cell_type": "markdown",
   "metadata": {},
   "source": [
    "# 13.5 What’s in a Twitter API Response?\n",
    "* Twitter API methods return **JSON (JavaScript Object Notation)** objects\n",
    "* Text-based **data-interchange format** \n",
    "* Represents objects as **collections of name–value pairs** (like dictionaries)\n",
    "* Commonly used in web services\n",
    "* Human and computer readable"
   ]
  },
  {
   "cell_type": "markdown",
   "metadata": {},
   "source": [
    "# 13.5 What’s in a Tweet? (cont.)\n",
    "* **JSON object format**:\n",
    "> ```\n",
    "> {propertyName1: value1, propertyName2: value2}\n",
    "> ```\n",
    "* **JSON array format (like Python list)**:\n",
    "> ```\n",
    "> [value1, value2, value3]\n",
    "> ```\n",
    "* **Tweepy handles the JSON for you** behind the scenes"
   ]
  },
  {
   "cell_type": "markdown",
   "metadata": {},
   "source": [
    "### Default Properties of a Tweet Object\n",
    "Twitter returns a JSON object that, by default, contains \n",
    "* the tweet’s unique ID number \n",
    "* its text (up to a maximum of 280 characters)"
   ]
  },
  {
   "cell_type": "markdown",
   "metadata": {},
   "source": [
    "### Twitter Metadata and the Twitter v1.1 APIs \n",
    "In Twitter v1.1 APIs, a tweet’s JSON object automatically included many additional metadata attributes that described aspects of the tweet, such as:\n",
    "* when it was created, \n",
    "* who created it, \n",
    "* lists of the hashtags, URLs, @-mentions and media (such as images and videos) included in the tweet,\n",
    "* and more. "
   ]
  },
  {
   "cell_type": "markdown",
   "metadata": {},
   "source": [
    "### Twitter v2 API Expansions and Fields\n",
    "In Twitter v2 API method, you use **fields** and **expansions** to request the precise metadata your app requires\n",
    "* Fields are additional metadata attributes you’d like Twitter to return to your app. For example, when you get a tweet, you might need \n",
    "    * the unique `author_id` attribute, indicating a tweet’s sender, or\n",
    "    * the tweet’s `created_at` attribute, indicating when the user sent the tweet was sent.\n",
    "    * Complete list of tweet fields, visit\n",
    "    https://developer.twitter.com/en/docs/twitter-api/data-dictionary/object-model/tweet\n",
    "* Some fields are associated with other Twitter metadata objects that, in turn, have their own fields\n",
    "* For example, associated with a tweet’s unique `author_id` attribute is a **user JSON object** \n",
    "* You use an **Expansion** to request that Twitter include associated metadata objects\n",
    "* Each associated object will contain its default attributes\n",
    "    * For a user object, these would be the user’s unique id number, name and username, but you can request more\n",
    "    * The complete list of user fields can be viewed at\n",
    "    > https://developer.twitter.com/en/docs/twitter-api/data-dictionary/object-model/user\n",
    "* General overview of all the JSON objects that Twitter APIs return, and links to the specific object details, see\n",
    "> https://developer.twitter.com/en/docs/twitter-api/data-dictionary/introduction"
   ]
  },
  {
   "cell_type": "markdown",
   "metadata": {},
   "source": [
    "### Sample JSON for the NASA Account’s 10 Most Recent Tweets\n",
    "* Sample JSON from a Twitter API response to a request that asked for recent tweets from the `@NASA` Twitter account\n",
    "* We added line numbers, reformatted the JSON for readability \n",
    "\n",
    "```\n",
    "{\n",
    "  \"data\": [\n",
    "    {\n",
    "      \"id\": \"1562156100136292352\",\n",
    "      \"text\": \"RT @NASAInSight: Thanks again for all the kind thoughts \n",
    "                   you’ve been sending. There’s still time to write me a note \n",
    "                   for the mission team to…\"\n",
    "    },\n",
    "    {\n",
    "      \"id\": \"1561886047331487744\",\n",
    "      \"text\": \"We see Martian dust devils (whirlwinds) from the ground, as \n",
    "              in this shot from the Opportunity rover in 2016, left. From \n",
    "                   space, we can see the tracks they leave behind, as in this\n",
    "                   view of dunes from Mars Reconnaissance Orbiter in 2009,\n",
    "                   right. More: https://t.co/kd1BNEDBUD https://t.co/\n",
    "                   RxeKTI5Fv5\"\n",
    "    },\n",
    "    ...\n",
    "  ],\n",
    "  \"meta\": {\n",
    "    \"result_count\": 10,\n",
    "    \"newest_id\": \"1562156100136292352\",\n",
    "    \"oldest_id\": \"1555635141728382976\",\n",
    "    \"next_token\": \"7140dibdnow9c7btw422nm76p6owdso7rqahg96mulyd2\"\n",
    "  }\n",
    "}\n",
    "```"
   ]
  },
  {
   "cell_type": "markdown",
   "metadata": {},
   "source": [
    "------\n",
    "&copy;1992&ndash;2020 by Pearson Education, Inc. All Rights Reserved. This content is based on Chapter 5 of the book [**Intro to Python for Computer Science and Data Science: Learning to Program with AI, Big Data and the Cloud**](https://amzn.to/2VvdnxE).\n",
    "\n",
    "DISCLAIMER: The authors and publisher of this book have used their \n",
    "best efforts in preparing the book. These efforts include the \n",
    "development, research, and testing of the theories and programs \n",
    "to determine their effectiveness. The authors and publisher make \n",
    "no warranty of any kind, expressed or implied, with regard to these \n",
    "programs or to the documentation contained in these books. The authors \n",
    "and publisher shall not be liable in any event for incidental or \n",
    "consequential damages in connection with, or arising out of, the \n",
    "furnishing, performance, or use of these programs.                  "
   ]
  }
 ],
 "metadata": {
  "celltoolbar": "Slideshow",
  "kernelspec": {
   "display_name": "Python 3 (ipykernel)",
   "language": "python",
   "name": "python3"
  },
  "language_info": {
   "codemirror_mode": {
    "name": "ipython",
    "version": 3
   },
   "file_extension": ".py",
   "mimetype": "text/x-python",
   "name": "python",
   "nbconvert_exporter": "python",
   "pygments_lexer": "ipython3",
   "version": "3.10.6"
  }
 },
 "nbformat": 4,
 "nbformat_minor": 4
}
