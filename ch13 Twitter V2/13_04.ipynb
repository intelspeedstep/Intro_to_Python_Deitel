{
 "cells": [
  {
   "cell_type": "markdown",
   "metadata": {},
   "source": [
    "# 13.4 Getting Twitter Credentials—Creating an App \n",
    "* Must obtain **credentials** for interacting with the Twitter APIs\n",
    "* First, [create a project and an **app**](https://developer.twitter.com/portal/dashboard) and perform the following steps in the next several slides"
   ]
  },
  {
   "cell_type": "markdown",
   "metadata": {},
   "source": [
    "# 13.4 Getting Twitter Credentials—Creating an App (cont.)\n",
    "1. In your dashboard, click **+ Create Project**\n",
    "2. In the **Project name** step, specify a project name. We entered `DeitelTest`. Click **Next**.\n",
    "3. In the **Use case** step, specify your use case. We selected **Exploring the API**. Click **Next**.\n",
    "4. In the **Project description** step, describe what you intend to do with your project. We entered “Experimenting with the Twitter v2 APIs using the examples in the textbook Intro to Python for Computer Science and Data Science: Learning to Program with AI, Big Data and the Cloud.” Click **Next**.\n",
    "5. In the **Add an existing App or create a new App** step, click **Create new**. \n",
    "6. In the **App Environment** step, select **Development** (this is the default). Click **Next**. \n",
    "7. In the **App name** step, specify an app name. We entered `DeitelTestApp`. Click **Next**. Keep this page open for the moment."
   ]
  },
  {
   "cell_type": "markdown",
   "metadata": {},
   "source": [
    "# 13.4 Getting Twitter Credentials—Creating an App (cont.)\n",
    "### Getting Your Credentials \n",
    "* After you complete Step 7 above, you’ll see a page titled **Here are your keys & tokens** showing your **Consumer API keys** and a Bearer Token. \n",
    "* Either can be used to authenticate with Twitter\n",
    "* bearer tokens are more secure\n",
    "> https://developer.twitter.com/en/docs/authentication/oauth-2-0/bearer-tokens\n"
   ]
  },
  {
   "cell_type": "markdown",
   "metadata": {},
   "source": [
    "### Storing Your Credentials \n",
    "* **Do not include your API keys and access tokens in your source code**\n",
    "* **Store your keys in a separate file** and don't share it\n",
    "* Good practice would be to use an encryption library such as [**bcrypt**](https://github.com/pyca/bcrypt/) \n",
    "* We placed our keys in `keys.py` in the `ch13` folder\n",
    "* **IMPORTANT:** Replace **`YourBearerToken`** before importing `keys.py` into this chapter's examples"
   ]
  },
  {
   "cell_type": "markdown",
   "metadata": {},
   "source": [
    "<hr style=\"height:2px; border:none; color:#AAA; background-color:#AAA;\">"
   ]
  },
  {
   "cell_type": "markdown",
   "metadata": {},
   "source": [
    "### OAuth 2.0 \n",
    "* These are all part of the **OAuth 2.0 authentication process**\n",
    "    * Sometimes called the **OAuth dance**\n",
    "* **Tweepy handles the OAuth 2.0 authentication details for you**"
   ]
  },
  {
   "cell_type": "markdown",
   "metadata": {},
   "source": [
    "------\n",
    "&copy;1992&ndash;2020 by Pearson Education, Inc. All Rights Reserved. This content is based on Chapter 5 of the book [**Intro to Python for Computer Science and Data Science: Learning to Program with AI, Big Data and the Cloud**](https://amzn.to/2VvdnxE).\n",
    "\n",
    "DISCLAIMER: The authors and publisher of this book have used their \n",
    "best efforts in preparing the book. These efforts include the \n",
    "development, research, and testing of the theories and programs \n",
    "to determine their effectiveness. The authors and publisher make \n",
    "no warranty of any kind, expressed or implied, with regard to these \n",
    "programs or to the documentation contained in these books. The authors \n",
    "and publisher shall not be liable in any event for incidental or \n",
    "consequential damages in connection with, or arising out of, the \n",
    "furnishing, performance, or use of these programs.                  "
   ]
  }
 ],
 "metadata": {
  "celltoolbar": "Slideshow",
  "kernelspec": {
   "display_name": "Python 3 (ipykernel)",
   "language": "python",
   "name": "python3"
  },
  "language_info": {
   "codemirror_mode": {
    "name": "ipython",
    "version": 3
   },
   "file_extension": ".py",
   "mimetype": "text/x-python",
   "name": "python",
   "nbconvert_exporter": "python",
   "pygments_lexer": "ipython3",
   "version": "3.10.6"
  }
 },
 "nbformat": 4,
 "nbformat_minor": 4
}
